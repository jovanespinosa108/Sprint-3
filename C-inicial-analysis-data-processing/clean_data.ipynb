{
 "cells": [
  {
   "cell_type": "markdown",
   "metadata": {},
   "source": [
    "Ahora que ya sabes cómo accesar tus datos y trabajar con ellos, llegó el momento de analizarlos. Pero para hacerlo, primero debemos garantizar su calidad, y no podemos hacerlo si no sabemos qué buscar. En esta lección, veremos cuáles son los problemas con los datos que más comúnmente debemos resolver antes de comenzar nuestro análisis.\n",
    "\n",
    "La razón para ello es simple: si los datos usados para el análisis tienen problemas, las conclusiones arrojadas no serán confiables. A esto se le suele conocer como \"entra basura, sale basura\" (GIGO, por sus siglas en inglés \"garbage in, garbage out\"). Nuestro objetivo es ayudarte a identificar valores ausentes, datos duplicados y errores de presentación en tus datos para evitar GIGO."
   ]
  },
  {
   "cell_type": "markdown",
   "metadata": {},
   "source": [
    "Valores ausentes y duplicados\n",
    "\n",
    "Los valores ausentes son valores en filas que no tenemos disponibles por alguna razón. Esto podría deberse a que la persona no respondió a una de las preguntas en una consulta, ya sea por problemas técnicos o cualquier otra razón. En los DataFrames de pandas, estos valores suelen indicarse con NaN. NaN significa \"not a number\" (\"no es un número\") y es una forma común de marcar valores ausentes.\n",
    "\n",
    "Los valores duplicados indican que una de las filas es exactamente igual a otra en la tabla. La mayoría de las veces, estos valores se generan por un problema técnico en el procesamiento de datos, pero, a veces, y dependiendo de tus datos, podría haber falsos duplicados. \n",
    "\n",
    "Por ejemplo, puedes escuchar una misma canción muchas veces, y si compilas datos solamente sobre el nombre de las canciones que has escuchado, claramente no habrá valores duplicados. La cantidad de entradas iguales indicará cuántas veces la has escuchado. ¿Y si necesitas una lista de las canciones que has escuchado, sin tomar en cuenta las veces que la has escuchado? Entonces se convertirán en valores duplicados y tendrás que trabajar con ellos.\n",
    "\n",
    "Veamos cómo se ven los valores ausentes y duplicados en la práctica.\n",
    "\n",
    "Seguiremos trabajando con el dataset music_log, pero esta vez usaremos su versión sin procesar: music_log_raw (del inglés \"raw\", en bruto, sin procesar). Es la versión original de este conjunto de datos que tiene algunos problemas de calidad. Como profesional de los datos, a menudo recibirás conjuntos de datos sin procesar como este.\n",
    "\n",
    "Para verificar su calidad, echemos un vistazo rápido a las primeras 10 filas.\n",
    "\n",
    "user_id\ttotal play\tArtist\tgenre\ttrack\n",
    "0\tBF6EA5AF\t92.851388\tMarina Rei\tpop\tMusica\n",
    "1\tFB1E568E\t282.981000\tStive Morgan\tambient\tLove Planet\n",
    "2\tFB1E568E\t282.981000\tStive Morgan\tambient\tLove Planet\n",
    "3\tEF15C7BA\t8.966000\tNaN\tdance\tLoving Every Minute\n",
    "4\t82F52E69\t193.776327\tRixton\tpop\tMe And My Broken Heart\n",
    "5\t4166D680\t3.007000\tHenry Hall & His Gleneagles Hotel Band\tjazz\tHome\n",
    "6\tF4F5677\t0.100000\tNaN\tclassicmetal\tNaN\n",
    "7\t386FE1ED\t211.880000\tNaN\telectronic\tRiviera\n",
    "8\tA5E0D927\t3.161000\tAndrew Paul Woodworth\tpop\tThe Name of This Next Song Is Called\n",
    "9\tE9E8A0CA\t274.390000\tPillar Point\tindie\tDove\n",
    "Entonces, ¿qué tenemos?\n",
    "\n",
    "Las filas 3, 6 y 7 contienen valores ausentes, indicados con NaN. NaN significa «no es un número» (en inglés, \"not a number\") y es una forma común de marcar valores ausentes.\n",
    "\n",
    "Mira las filas 1 y 2. La misma pista se repite dos veces, lo que representa un valor duplicado. Un analista que se pierda esto puede concluir que la canción es más popular de lo que realmente es.\n",
    "\n",
    "Estos son los únicos problemas que tenemos en nuestros datos; son problemas de contenido. Pero también podemos tener problemas estructurales."
   ]
  },
  {
   "cell_type": "markdown",
   "metadata": {},
   "source": [
    "Errores de presentación\n",
    "\n",
    "Ahora examinemos la estructura de la tabla en sí. Los nombres de las columnas también pueden ser incorrectos. Extraigamos los datos de la columna 'user_id':\n",
    "\n",
    "print(df['user_id'])\n",
    "\n",
    "KeyError: 'user_id'\n",
    "\n",
    "Como resultado, recibimos un mensaje de error que indica que la columna especificada no existe. ¿Pero por qué? A primera vista, el nombre de la columna puede parecer correcto. Sin embargo, hay un espacio antes del nombre de la columna: ' user_id'.\n",
    "\n",
    "Es difícil determinar la cantidad de espacios visualmente, por lo que generalmente es mejor evitar usar espacios en los nombres de las columnas. Si el nombre de una columna consta de varias palabras, lo mejor es usar snake_case.\n",
    "\n",
    "Snake case (estilizado como snakecase) se refiere al estilo de escritura en el que cada espacio se reemplaza por un guion bajo (``) y la primera letra de cada palabra se escribe en minúsculas.\n",
    "\n",
    "Los caracteres no deseados, como los espacios, se pueden introducir de forma inesperada en los procesos de importación o exportación de datos. Esto es exactamente lo que pasó con el nombre de nuestra columna ' user_id'.\n",
    "\n",
    "Todos los temas tratados en esta lección requieren nuestra atención. Debemos abordarlos antes de proceder al análisis en sí. ¡Te enseñaremos cómo hacerlo en las próximas lecciones!"
   ]
  },
  {
   "cell_type": "markdown",
   "metadata": {},
   "source": [
    "Práctica guiada\n",
    "\n",
    "Ejercicio 1\n",
    "\n",
    "Para familiarizarnos con los valores ausentes (NaN), vamos a examinar las primeras 10 filas de nuestro conjunto de datos music_log_raw.\n",
    "\n",
    "Utiliza el método head() para mostrar las primeras 10 filas del DataFrame.\n",
    "Observa detenidamente las filas para identificar cualquier valor NaN. Recuerda que NaN se representa como un espacio en blanco o un punto."
   ]
  },
  {
   "cell_type": "code",
   "execution_count": null,
   "metadata": {},
   "outputs": [],
   "source": [
    "import pandas as pd\n",
    "\n",
    "df = pd.read_csv('/datasets/music_log_raw.csv')\n",
    "\n",
    "# Muestra las primeras 10 filas del DataFrame\n",
    "print(df.head(10))# ... tu código aquí ..."
   ]
  },
  {
   "cell_type": "markdown",
   "metadata": {},
   "source": [
    "Ejercicio 2\n",
    "\n",
    "Intenta imprimir los valores de la columna total play, sin adicionar espacios y con un guion bajo."
   ]
  },
  {
   "cell_type": "code",
   "execution_count": null,
   "metadata": {},
   "outputs": [],
   "source": [
    "import pandas as pd\n",
    "\n",
    "df = pd.read_csv('/datasets/music_log_raw.csv')\n",
    "\n",
    "# Imprime los valores de la columna total play\n",
    "print(df['total play'])"
   ]
  }
 ],
 "metadata": {
  "kernelspec": {
   "display_name": "Python 3",
   "language": "python",
   "name": "python3"
  },
  "language_info": {
   "name": "python",
   "version": "3.12.0"
  }
 },
 "nbformat": 4,
 "nbformat_minor": 2
}
