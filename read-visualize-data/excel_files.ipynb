{
 "cells": [
  {
   "cell_type": "markdown",
   "metadata": {},
   "source": [
    "Cargar un archivo Excel en un DataFrame de Pandas.\n",
    "\n",
    "Seleccionar qué hoja específica cargar, dentro de un archivo Excel con varias hojas.\n",
    "\n",
    "La librería Pandas proporciona la función read_excel() que permite leer archivos Excel. Por defecto, esta función carga la primera hoja, pero un fichero Excel puede contener múltiples hojas.\n",
    "\n",
    "Como se puede ver en la siguiente imagen, tenemos un conjunto de datos referidos a opiniones sobre productos que contiene cuatro hojas: reviews, reviewers, products, y product_categories.\n",
    "\n",
    "\n",
    "\n",
    "Probemos cargar el archivo. Se encuentra almacenado en /datasets/product_reviews.xlsx:\n",
    "\n",
    "import pandas as pd\n",
    "\n",
    "df = pd.read_excel('/datasets/product_reviews.xlsx')\n",
    "\n",
    "print(df.head())\n",
    "\n",
    "           id reviewer_id  product_id  review\n",
    "0  2546305677    cG441617  5003186430       3\n",
    "1  2603422798    cH443811  7130698135       1\n",
    "2  2598103631    bF100137  4023404310       4\n",
    "3  2632674394    cF786880  7130698135       4\n",
    "4  2594782880    aF649317  5003186430       5\n",
    "\n",
    "i deseamos leer una hoja distinta de la predeterminada, debes pasar dos argumentos: la ruta del archivo (un string) y sheet_name= con el nombre de la hoja (también un string). \n",
    "\n",
    "import pandas as pd\n",
    "\n",
    "df = pd.read_excel('/datasets/product_reviews.xlsx', sheet_name='reviewers')\n",
    "\n",
    "print(df.head())\n",
    "\n",
    "         id date_joined  zipcode\n",
    "0  aF195825  2012-06-21    91914\n",
    "1  aF249047  2019-03-26    91915\n",
    "2  aF362092  2012-01-05    91941\n",
    "3  aF484180  2019-06-11    91941\n",
    "4  aF539111  2011-03-04    92003"
   ]
  },
  {
   "cell_type": "markdown",
   "metadata": {},
   "source": [
    "Carga la hoja reviews siguiendo estos pasos:\n",
    "\n",
    "Lee la primera hoja del Excel almacenado en /datasets/product_reviews.xlsx y guárdalo en un dataframe llamado df_reviews.\n",
    "\n",
    "Muestra el resultado en pantalla."
   ]
  },
  {
   "cell_type": "code",
   "execution_count": null,
   "metadata": {},
   "outputs": [],
   "source": [
    "import pandas as pd\n",
    "\n",
    "df_reviews = pd.read_excel('/datasets/product_reviews.xlsx')\n",
    "\n",
    "print(df_reviews)# escribe tu código aquí"
   ]
  },
  {
   "cell_type": "markdown",
   "metadata": {},
   "source": [
    "Para obtener más información sobre los productos de este conjunto de datos, lee la hoja products del archivo Excel en una variable llamada df_products.\n",
    "\n",
    "Por último, no olvides mostrar el resultado en pantalla."
   ]
  },
  {
   "cell_type": "code",
   "execution_count": null,
   "metadata": {},
   "outputs": [],
   "source": [
    "import pandas as pd\n",
    "\n",
    "df_products = pd.read_excel('/datasets/product_reviews.xlsx', sheet_name = 'products')\n",
    "\n",
    "print(df_products)# escribe tu código aquí"
   ]
  },
  {
   "cell_type": "markdown",
   "metadata": {},
   "source": [
    "Ejercicio\n",
    "\n",
    "Además de los nombres de los productos, el archivo Excel también contiene información sobre cómo se clasifican los productos. Por eso había una columna 'category_id en la tabla de la última tarea.\n",
    "\n",
    "Lee la última hoja product_categories y guárdala en una variable llamada df_categories. Ordena df_categories de la Z a la A por la columna category y guarda este cambio en la misma variable. Luego, simplemente muestra el df_categories en la pantalla."
   ]
  },
  {
   "cell_type": "code",
   "execution_count": null,
   "metadata": {},
   "outputs": [],
   "source": [
    "import pandas as pd\n",
    "\n",
    "df_categories = pd.read_excel('/datasets/product_reviews.xlsx', sheet_name='product_categories')\n",
    "\n",
    "df_categories = df_categories.sort_values(by=['category'], ascending=False)\n",
    "\n",
    "print(df_categories)"
   ]
  },
  {
   "cell_type": "markdown",
   "metadata": {},
   "source": [
    "Resumen\n",
    "Esto es todo lo que hay que hacer para convertir un archivo Excel en un DataFrame. El método read_excel() también tiene muchos otros parámetros que puedes utilizar para ajustar el proceso de acuerdo con la estructura de los datos en el archivo Excel, como el parámetro header=. \n",
    "\n",
    "Terminología\n",
    "\n",
    "DataFrame: Una estructura de datos bidimensional en Pandas similar a una tabla, con ejes etiquetados (filas y columnas). Es el tipo de dato más común para manejar datos en Pandas.\n",
    "\n",
    "Hoja de trabajo (Worksheet): Cada archivo Excel puede contener múltiples hojas de trabajo (worksheets), y pd.read_excel() permite seleccionar una hoja específica con el parámetro sheet_name.\n",
    "\n",
    "sheet_name: Parámetro opcional de pd.read_excel() que se utiliza para especificar qué hoja de trabajo del archivo Excel se desea leer. Puede ser un índice de hoja (entero) o el nombre de la hoja (string).\n",
    "\n",
    "Encabezado (Header): La fila del archivo Excel que contiene los nombres de las columnas. En Pandas, el parámetro header en pd.read_excel() define qué fila se usa como encabezado.\n",
    "\n",
    "Archivos .xlsx / .xls: Los formatos de archivo estándar para los documentos de Excel. Pandas puede leer ambos formatos, aunque el soporte para .xls es más limitado."
   ]
  }
 ],
 "metadata": {
  "kernelspec": {
   "display_name": "Python 3",
   "language": "python",
   "name": "python3"
  },
  "language_info": {
   "name": "python",
   "version": "3.12.0"
  }
 },
 "nbformat": 4,
 "nbformat_minor": 2
}
