{
 "cells": [
  {
   "cell_type": "markdown",
   "metadata": {},
   "source": [
    "Ejercicio 1\n",
    "\n",
    "Importa pandas para poder acceder a la librería con pd. Crea una lista anidada, music, con cuatro elementos. Cada sublista debe almacenar dos valores de tipo string: artista y nombre de la canción.\n",
    "\n",
    "'Bob Dylan' — 'Like A Rolling Stone'\n",
    "'John Lennon' — 'Imagine'\n",
    "'The Beatles' — 'Hey Jude'\n",
    "'Nirvana' — 'Smells Like Teen Spirit'"
   ]
  },
  {
   "cell_type": "code",
   "execution_count": 1,
   "metadata": {},
   "outputs": [
    {
     "name": "stdout",
     "output_type": "stream",
     "text": [
      "[['Bob Dylan', 'Like A Rolling Stone'], ['John Lennon', 'Imagine'], ['The Beatles', 'Hey Jude'], ['Nirvana', 'Smells Like Teen Spirit']]\n"
     ]
    }
   ],
   "source": [
    "import pandas as pd# escribe tu código aquí\n",
    "\n",
    "#nested list contains artist name and song name\n",
    "music = [\n",
    "    ['Bob Dylan', 'Like A Rolling Stone'],\n",
    "    ['John Lennon', 'Imagine'],\n",
    "    ['The Beatles', 'Hey Jude'],\n",
    "    ['Nirvana', 'Smells Like Teen Spirit']\n",
    "]\n",
    "\n",
    "print(music)"
   ]
  },
  {
   "cell_type": "markdown",
   "metadata": {},
   "source": [
    "Ejercicio 2\n",
    "\n",
    "Crea una lista llamada entries que tenga dos elementos: los nombres de las columnas 'artist' y 'track'. Luego, utiliza DataFrame() para crear una tabla a partir de las listas music y entries. Guarda el resultado en la variable playlist y luego muéstralo.\n"
   ]
  },
  {
   "cell_type": "code",
   "execution_count": 3,
   "metadata": {},
   "outputs": [
    {
     "name": "stdout",
     "output_type": "stream",
     "text": [
      "        artist                    track\n",
      "0    Bob Dylan     Like A Rolling Stone\n",
      "1  John Lennon                  Imagine\n",
      "2  The Beatles                 Hey Jude\n",
      "3      Nirvana  Smells Like Teen Spirit\n"
     ]
    }
   ],
   "source": [
    "import pandas as pd\n",
    "\n",
    "music = [\n",
    "    ['Bob Dylan', 'Like A Rolling Stone'],\n",
    "    ['John Lennon', 'Imagine'],\n",
    "    ['The Beatles', 'Hey Jude'],\n",
    "    ['Nirvana', 'Smells Like Teen Spirit'],\n",
    "]\n",
    "\n",
    "#variable asign cloumn names into the DataFrame\n",
    "entries = ['artist', 'track']\n",
    "\n",
    "playlist = pd.DataFrame(data=music, columns=entries)\n",
    "print(playlist)"
   ]
  },
  {
   "cell_type": "markdown",
   "metadata": {},
   "source": [
    "Actividad práctica\n",
    "\n",
    "Ejercicio 1\n",
    "\n",
    "Importa pandas para poder acceder a la librería con pd. Crea una lista anidada, sales_data, con cinco elementos. Cada sublista debe almacenar cuatro valores: product_name (nombre del producto), region (región de ventas), units_sold (unidades vendidas) y revenue (ingresos en dólares).\n",
    "\n",
    "'Laptop' — 'North America' — 120 — 120000\n",
    "'Smartphone' — 'Europe' — 340 — 170000\n",
    "'Tablet' — 'Asia' — 210 — 63000\n",
    "'Headphones' — 'South America' — 150 — 45000\n",
    "'Smartwatch' — 'Africa' — 95 — 28500"
   ]
  },
  {
   "cell_type": "code",
   "execution_count": 4,
   "metadata": {},
   "outputs": [
    {
     "name": "stdout",
     "output_type": "stream",
     "text": [
      "[['Laptop', 'North America', 120, 120000], ['Smartphone', 'Europe', 340, 170000], ['Tablet', 'Asia', 210, 63000], ['Headphones', 'South Africa', 150, 45000], ['Smatwatch', 'Africa', 95, 28500]]\n"
     ]
    }
   ],
   "source": [
    "import pandas as pd# escribe tu código aquí\n",
    "\n",
    "sales_data = [\n",
    "    ['Laptop', 'North America', 120, 120000],\n",
    "    ['Smartphone', 'Europe', 340, 170000],\n",
    "    ['Tablet', 'Asia', 210, 63000],\n",
    "    ['Headphones', 'South Africa', 150, 45000],\n",
    "    ['Smatwatch', 'Africa', 95, 28500]\n",
    "]\n",
    "\n",
    "print(sales_data)"
   ]
  },
  {
   "cell_type": "markdown",
   "metadata": {},
   "source": [
    "Ejercicio 2\n",
    "\n",
    "Crea una lista llamada columns que tenga cuatro elementos: 'product_name', 'region', 'units_sold', y 'revenue'. Luego, utiliza DataFrame() para crear una tabla a partir de las listas sales_data y columns. Guarda el resultado en la variable sales_report y luego muéstralo."
   ]
  },
  {
   "cell_type": "code",
   "execution_count": 5,
   "metadata": {},
   "outputs": [
    {
     "name": "stdout",
     "output_type": "stream",
     "text": [
      "  product_name         region  units_sold  revenue\n",
      "0       Laptop  North America         120   120000\n",
      "1   Smartphone         Europe         340   170000\n",
      "2       Tablet           Asia         210    63000\n",
      "3   Headphones  South America         150    45000\n",
      "4   Smartwatch         Africa          95    28500\n"
     ]
    }
   ],
   "source": [
    "import pandas as pd\n",
    "\n",
    "sales_data = [\n",
    "    ['Laptop', 'North America', 120, 120000],\n",
    "    ['Smartphone', 'Europe', 340, 170000],\n",
    "    ['Tablet', 'Asia', 210, 63000],\n",
    "    ['Headphones', 'South America', 150, 45000],\n",
    "    ['Smartwatch', 'Africa', 95, 28500],\n",
    "]\n",
    "\n",
    "# variable for columns name\n",
    "columns = ['product_name', 'region', 'units_sold', 'revenue']\n",
    "\n",
    "#create Data Frame from a nested list, 2 parms data and columns\n",
    "sales_report = pd.DataFrame(data=sales_data, columns=columns)\n",
    "\n",
    "print(sales_report)# escribe tu código aquí\n"
   ]
  },
  {
   "attachments": {
    "dataframe.png": {
     "image/png": "[encoded data removed]"
    }
   },
   "cell_type": "markdown",
   "metadata": {},
   "source": [
    "Import pandas asigning a alias as pd for a easier call\n",
    "\n",
    "import pandas as pd\n",
    "\n",
    "Creación de un DataFrame\n",
    "\n",
    "Para utilizar pandas, debes convertir tus datos a un DataFrame. Para ello puedes utilizar la clase DataFrame().\n",
    "\n",
    "Una clase es como una plantilla para crear objetos, y hay muchas clases en pandas. La clase DataFrame() es la que más se utiliza.\n",
    "\n",
    "La clase DataFrame() toma dos argumentos: data y columns.\n",
    "\n",
    "![dataframe.png](attachment:dataframe.png)\n",
    "\n",
    "data espera una lista que contenga los datos.\n",
    "columns espera una lista de nombres de columnas que correspondan a la lista de datos.\n",
    "\n",
    "Imagina que tienes un conjunto de datos simple: una lista anidada que contiene los nombres de los países y sus capitales. Así que tenemos una variable llamada atlas, que almacena esta información:\n",
    "\n",
    "atlas = [  \n",
    "        ['France', 'Paris'],  \n",
    "        ['Russia', 'Moscow'],  \n",
    "        ['China', 'Beijing'],  \n",
    "        ['Mexico', 'Mexico City'],  \n",
    "        ['Egypt', 'Cairo']  \n",
    "]\n",
    " Podemos utilizarla como valor para el argumento data.\n",
    "\n",
    "pd.DataFrame(data = atlas, columns = )\n",
    "\n",
    "Como puedes ver, todavía debemos darle un valor al argumento columns. Vamos a crear una lista que contenga los nombres de columnas 'country' y 'capital':          \n",
    "\n",
    "geography = ['country', 'capital']\n",
    "Ahora tenemos dos argumentos y podemos convertir nuestra lista anidada en un DataFrame y almacenarlo en la variable world_map:\n",
    "\n",
    "world_map = pd.DataFrame(data=atlas, columns=geography)\n",
    "Como DataFrame() es una clase dentro de la librería pandas, va precedida de pd cuando la llamamos.\n",
    "\n",
    "El código completo se verá así:\n",
    "\n",
    "import pandas as pd\n",
    "\n",
    "# preparamos los datos y los nombres de las columnas\n",
    "atlas = [\n",
    "      ['France', 'Paris'],  \n",
    "        ['Russia', 'Moscow'],  \n",
    "        ['China', 'Beijing'],  \n",
    "        ['Mexico', 'Mexico City'],  \n",
    "        ['Egypt', 'Cairo'],\n",
    "]\n",
    "geography = ['country', 'capital']\n",
    "\n",
    "# creamos un DataFrame\n",
    "\n",
    "world_map = pd.DataFrame(data=atlas , columns=geography)\n",
    "\n",
    "# mostrando el DataFrame\n",
    "\n",
    "print(world_map)\n",
    "\n",
    "# output\n",
    "\n",
    " country      capital\n",
    "0  France        Paris\n",
    "1  Russia       Moscow\n",
    "2   China      Beijing\n",
    "3  Mexico  Mexico City\n",
    "4   Egypt        Cairo\n",
    "Hemos convertido los datos sin procesar de una lista anidada en un DataFrame con columnas con nombre."
   ]
  }
 ],
 "metadata": {
  "kernelspec": {
   "display_name": "Python 3",
   "language": "python",
   "name": "python3"
  },
  "language_info": {
   "codemirror_mode": {
    "name": "ipython",
    "version": 3
   },
   "file_extension": ".py",
   "mimetype": "text/x-python",
   "name": "python",
   "nbconvert_exporter": "python",
   "pygments_lexer": "ipython3",
   "version": "3.12.0"
  }
 },
 "nbformat": 4,
 "nbformat_minor": 2
}
