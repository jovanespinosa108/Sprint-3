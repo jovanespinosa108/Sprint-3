{
 "cells": [
  {
   "cell_type": "markdown",
   "metadata": {},
   "source": [
    "Actividad práctica\n",
    "\n",
    "Eres un analista de una tienda online. Has recibido datos sobre los productos en diferentes categorías. Debes inspeccionar el DataFrame para garantizar que los tipos de datos sean correctos y que las columnas estén en su formato adecuado. Usa dtypes para verificar los tipos de datos y columns para asegurarte de que los nombres de las columnas estén correctamente listados."
   ]
  },
  {
   "cell_type": "code",
   "execution_count": 2,
   "metadata": {},
   "outputs": [
    {
     "name": "stdout",
     "output_type": "stream",
     "text": [
      "product_id       int64\n",
      "product_name    object\n",
      "price            int64\n",
      "category        object\n",
      "dtype: object\n",
      "Index(['product_id', 'product_name', 'price', 'category'], dtype='object')\n"
     ]
    }
   ],
   "source": [
    "import pandas as pd\n",
    "\n",
    "data = {'product_id': [101, 102, 103],\n",
    "        'product_name': ['Laptop', 'Smartphone', 'Tablet'],\n",
    "        'price': [1500, 800, 300],\n",
    "        'category': ['Electronics', 'Electronics', 'Electronics']}\n",
    "\n",
    "df = pd.DataFrame(data)\n",
    "\n",
    "data_types = df.dtypes# escribe tu código aquí\n",
    "column_names = df.columns # escribe tu código aquí\n",
    "\n",
    "print(data_types)\n",
    "print(column_names)\n"
   ]
  },
  {
   "cell_type": "markdown",
   "metadata": {},
   "source": [
    "Como parte de tu análisis, necesitas verificar si la cantidad de productos en la tienda es la correcta. Utiliza shape para verificar el tamaño del DataFrame y info() para asegurarte de que todas las columnas tienen 3 filas completas."
   ]
  },
  {
   "cell_type": "code",
   "execution_count": 3,
   "metadata": {},
   "outputs": [
    {
     "name": "stdout",
     "output_type": "stream",
     "text": [
      "(3, 4)\n",
      "<class 'pandas.core.frame.DataFrame'>\n",
      "RangeIndex: 3 entries, 0 to 2\n",
      "Data columns (total 4 columns):\n",
      " #   Column        Non-Null Count  Dtype \n",
      "---  ------        --------------  ----- \n",
      " 0   product_id    3 non-null      int64 \n",
      " 1   product_name  3 non-null      object\n",
      " 2   price         3 non-null      int64 \n",
      " 3   category      3 non-null      object\n",
      "dtypes: int64(2), object(2)\n",
      "memory usage: 228.0+ bytes\n"
     ]
    }
   ],
   "source": [
    "import pandas as pd\n",
    "\n",
    "data = {'product_id': [101, 102, 103],\n",
    "        'product_name': ['Laptop', 'Smartphone', 'Tablet'],\n",
    "        'price': [1500, 800, 300],\n",
    "        'category': ['Electronics', 'Electronics', 'Electronics']}\n",
    "\n",
    "df = pd.DataFrame(data)\n",
    "\n",
    "data_shape = df.shape\n",
    "print(data_shape)# escribe tu código aquí\n",
    "df.info()# Escribe tu código aquí para mostrar la información del DataFrame"
   ]
  },
  {
   "cell_type": "markdown",
   "metadata": {},
   "source": [
    "Pandas es la librería de Python más utilizada para procesar datos. Tiene varias funcionalidades, entre ellas:\n",
    "\n",
    "recuperar datos de distintas fuentes y fusionarlos;\n",
    "solucionar problemas con los datos, por ejemplo, eliminar datos duplicados o completar valores ausentes;\n",
    "agregar, eliminar o modificar datos de la tabla;\n",
    "agrupar datos y calcular estadísticas para grupos.\n",
    "Además, pandas está bien documentado, por lo tanto, siempre puedes encontrar una buena explicación sobre la funcionalidad que proporciona.\n",
    "\n",
    "Empecemos por conocer pandas mediante su objeto básico, que es el DataFrame.\n",
    "\n",
    "Estructura del DataFrame\n",
    "\n",
    "Los DataFrames se utilizan ampliamente en ciencia de datos, analítica, computación científica y muchos otros campos intensivos en datos. Saber qué son es el primer paso para comenzar a trabajar con pandas.\n",
    "\n",
    "Un DataFrame es una estructura de datos bidimensional, que es esencialmente una tabla donde cada elemento tiene dos coordenadas: una fila y una columna. Se accede a las filas por los índices y a las columnas por sus nombres.\n",
    "\n",
    "Las filas suelen representar una sola entidad, mientras que las columnas describen los atributos de estas entidades; por ejemplo, en el ejemplo anterior, que almacena las canciones reproducidas en una aplicación de música, cada canción reproducida se registraría como una fila. Cada canción reproducida tiene información asociada, como el ID de usuario, la duración, el artista, el género y el nombre de la pista, que se registran como columnas.\n",
    "\n",
    "En este capítulo, utilizaremos los términos \"DataFrame\", \"tabla\" y \"conjunto de datos\" de manera indistinta, ya que todos se refieren a una tabla de datos en forma de un DataFrame de pandas."
   ]
  },
  {
   "cell_type": "markdown",
   "metadata": {},
   "source": [
    "Documentación para los datos\n",
    "\n",
    "Como puedes ver, cada columna tiene un nombre que nos ayuda a interpretar los datos. Las columnas son similares a los nombres de las variables, ya que indican qué tipo de datos contienen. Sin embargo, es posible que los nombres de las columnas por sí solos no proporcionen una comprensión completa de un conjunto de datos.\n",
    "\n",
    "Por ejemplo, la columna total play sugiere que almacena la duración total de la canción, la cual se puede medir en segundos o minutos; incluso puede incluir la duración de un anuncio que se reproduce antes de la canción.\n",
    "\n",
    "Por lo general, estos detalles se aclaran con una búsqueda de la documentación del conjunto de datos, que contiene una descripción de cada columna, o por medio de preguntas al propietario del conjunto de datos.\n",
    "\n",
    "La documentación suele ser la opción preferida para comprender la estructura de los datos. Una documentación bien elaborada puede proporcionar descripciones de la estructura de los datos, incluidas las descripciones de las columnas. Un ejemplo de dicha descripción podría verse así:\n",
    "\n",
    "user_id: el identificador único de usuario.\n",
    "total play: la cantidad de tiempo (en segundos) que el usuario reprodujo la canción.\n",
    "\n",
    "Artist: el nombre del artista.\n",
    "\n",
    "genre: el género de la canción (rock, pop, electrónica, clásica, etc.).\n",
    "\n",
    "track: el nombre de la canción.\n",
    "\n",
    "Ahora puedes asegurarte de que user_id identifica unívocamente al usuario, de que el tiempo total de la reproducción de las canciones se almacena en segundos en lugar de minutos y de que el contenido de todas las columnas está en tu DataFrame.\n",
    "\n",
    "Atributos del DataFrame\n",
    "\n",
    "\n",
    "Si utilizas pandas para leer un conjunto de datos y almacenarlo como un objeto DataFrame, podrás acceder de manera fácil y conveniente a la información general del conjunto de datos, además de tener la oportunidad de manipular los datos que ofrece pandas.\n",
    "\n",
    "Un atributo es una característica o propiedad de un objeto que define su estado. Se puede acceder al mismo o modificarlo utilizando la notación de puntos. Por ejemplo, una clase Cat, que defina el objeto gato, podría tener tales atributos como raza, número de patas, tamaño, peso, etc.\n",
    "\n",
    "En el contexto de pandas, los atributos son propiedades de un objeto DataFrame que proporcionan información sobre los datos contenidos en él.\n",
    "\n",
    "Los atributos en pandas permiten acceder a la información general de un conjunto de datos sin realizar ninguna manipulación de los mismos. Proporcionan una forma cómoda de obtener una visión general de la estructura y del contenido del DataFrame.\n",
    "\n",
    "Aquí hay algunos ejemplos:\n",
    "\n",
    "El atributo dtypes permite visualizar los tipos de datos de los valores de cada columna.\n",
    "\n",
    "El atributo columns se puede utilizar para mostrar los nombres de columnas.\n",
    "\n",
    "El atributo shape se utiliza para comprender el tamaño de la tabla.\n",
    "Comprobemos el tamaño de un DataFrame para ilustrar cómo se utilizan los atributos. Si la variable df contiene un DataFrame, podemos comprobar su tamaño mediante el atributo shape de la siguiente forma:\n",
    "\n",
    "\n",
    "El DataFrame df tiene 67 963 filas y 5 columnas. Es por eso que la salida del atributo shape es (67963, 5). Como puedes ver, llamar a un atributo es similar a llamar a un método, excepto que los atributos no van seguidos de paréntesis.\n",
    "\n",
    "Tipos de datos\n",
    "\n",
    "Una columna puede contener valores de diferentes tipos, y el atributo dtypes te indicará cuáles son.\n",
    "\n",
    "print(df.dtypes)"
   ]
  },
  {
   "cell_type": "markdown",
   "metadata": {},
   "source": [
    "Pandas tiene sus propios tipos de datos y cada uno corresponde a un determinado tipo de datos en Python:\n",
    "\n",
    "Tipo Python\tTipo Pandas\n",
    "\n",
    "string\tstr\tobject\n",
    "\n",
    "número entero\tint\tint64\n",
    "\n",
    "número de coma flotante\tfloat\tfloat64\n",
    "\n",
    "tipo de dato lógico\tbool\tbool\n",
    "\n",
    "Nota: en pandas, los datos que no entran dentro de ningún otro tipo, como los strings, se indican como object.  "
   ]
  },
  {
   "cell_type": "markdown",
   "metadata": {},
   "source": [
    "Nombres de columnas\n",
    "\n",
    "El atributo columns almacena una lista de nombres de columnas; y como los nombres de las columnas son strings, cada nombre de columna es de tipo object, como se puede comprobar en la salida de la llamada a continuación.\n",
    "\n",
    "print(df.columns)\n",
    "\n",
    "regunta\n",
    "\n",
    "Cuestionario 1\n",
    "¿Qué nos cuenta el atributo columns sobre un conjunto de datos?\n",
    "\n",
    "Nos muestra el número de columnas en un conjunto de datos.\n",
    "\n",
    "Contiene los tipos de datos para cada columna en un DataFrame.\n",
    "\n",
    "Almacena los nombres de las columnas.\n",
    "\n",
    "¡Eso es!\n",
    "\n",
    "¡Buen trabajo!\n",
    "Tamaño de la tabla\n",
    "\n",
    "\n",
    "Ya hemos hablado sobre el atributo shape que muestra el tamaño de una tabla. Este atributo almacena una tupla, en la que el primer valor representa el número de filas y el segundo el número de columnas.\n",
    "\n",
    "Entonces, ¿qué es una tupla? Las tuplas son similares a las listas, pero:\n",
    "\n",
    "Mientras que los elementos de una lista pueden modificarse, agregarse o eliminarse, los elementos de una tupla son inmutables, es decir, no pueden modificarse.\n",
    "En lugar de corchetes, las tuplas utilizan paréntesis (por ejemplo, (67963, 5)).\n",
    "Estas diferencias hacen que sea necesario utilizar una tupla para el atributo shape, ya que de lo contrario podrías manipularla por error y no mostraría la información adecuada.\n",
    "\n",
    "Recuperar un valor de una tupla es tan fácil como con las listas:\n",
    "\n",
    "\n",
    "Obtenos el numero de filas de la tupla\n",
    "\n",
    "rows_number = df.shape[0]\n",
    "\n",
    "Obtenemos el numero de columnas de la tupla\n",
    "\n",
    "columns_number = df.shape[1]\n",
    "Si seguimos el ejemplo anterior, obtendremos rows_number = 67963 y columns_number = 5!\n",
    "\n",
    "Solicitamos todos los atributos con el método info()\n",
    "\n",
    "Puedes acceder a cada atributo de la tabla por separado o puedes solicitarlos todos a la vez llamando al método info().\n",
    "\n",
    "Este método es muy eficaz para acceder a los atributos.\n",
    "\n",
    "print(df.info())"
   ]
  },
  {
   "cell_type": "markdown",
   "metadata": {},
   "source": [
    "Pregunta\n",
    "\n",
    "Cuestionario 2\n",
    "¿Cuáles son las ventajas de utilizar el método info()?\n",
    "\n",
    "Elige tantas como quieras\n",
    "Es más rápido que evaluar cada atributo individual por separado.\n",
    "\n",
    "¡Oh sí! En lugar de llamar a cada atributo uno por uno, puedes utilizar una sola línea de código.\n",
    "\n",
    "Muestra la información más solicitada sobre un conjunto de datos.\n",
    "\n",
    "Así es. Hay mucho que aprender de los datos que tenemos a mano.\n",
    "\n",
    "Utilizar un método es mejor que utilizar atributos."
   ]
  }
 ],
 "metadata": {
  "kernelspec": {
   "display_name": "Python 3",
   "language": "python",
   "name": "python3"
  },
  "language_info": {
   "codemirror_mode": {
    "name": "ipython",
    "version": 3
   },
   "file_extension": ".py",
   "mimetype": "text/x-python",
   "name": "python",
   "nbconvert_exporter": "python",
   "pygments_lexer": "ipython3",
   "version": "3.12.0"
  }
 },
 "nbformat": 4,
 "nbformat_minor": 2
}
