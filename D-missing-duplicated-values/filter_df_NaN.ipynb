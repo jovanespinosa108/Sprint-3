{
 "cells": [
  {
   "cell_type": "markdown",
   "metadata": {},
   "source": [
    "Filtrar DataFrames por valores ausentes\n",
    "\n",
    "A veces, puede ser necesario examinar las filas del dataset que contienen valores ausentes. Hay varias formas de filtrar un DataFrame para extraer filas con valores ausentes. Una forma es utilizar el método isna(), que genera un Series para cada fila. En este Series, True indica un valor ausente y False indica un valor no ausente.\n",
    "\n",
    "Otra opción es filtrar el DataFrame y extraer solo las filas en las que no falte 'source'. El enfoque que utilizamos anteriormente funcionará con una única modificación menor:\n",
    "\n",
    "print(df_logs[~df_logs['source'].isna()])\n",
    "\n",
    "                     user_id   source       email  purchase\n",
    "0       7141786820    other         NaN         0\n",
    "1       5644686960    email  c129aa540a         0\n",
    "2       1914055396  context         NaN         0\n",
    "3       4099355752    other         NaN         0\n",
    "4       6032477554  context         NaN         1\n",
    "...            ...      ...         ...       ...\n",
    "199995  8714621942    other         NaN         0\n",
    "199996  6064948744  context         NaN         1\n",
    "199997  9210683879  context         NaN         0\n",
    "199998  1629959686    other         NaN         1\n",
    "199999  2089329795    other         NaN         0\n",
    "\n",
    "[198326 rows x 4 columns]\n",
    "\n",
    "La única diferencia entre este caso y aquel que nos interesaba por las filas con valores ausentes es la adición del símbolo de tilde (~), que invierte el resultado. Aquí está el desglose de este código:\n",
    "\n",
    "Extraemos la columna 'source' utilizando df_logs['source'].\n",
    "\n",
    "A continuación, le aplicamos el método isna() para obtener una serie de booleanos que indican la ausencia de valores: df_logs['source'].isna().\n",
    "\n",
    "Invertimos la serie utilizando ~. Esto invierte todos los valores True a False y viceversa.\n",
    "\n",
    "Utilizamos esta serie de booleanos para filtrar el DataFrame original, extrayendo solo las filas en las que 'source' no tiene valores ausentes.\n",
    "Por último, imprimimos la tabla resultante."
   ]
  },
  {
   "cell_type": "markdown",
   "metadata": {},
   "source": [
    "Práctica guiada\n",
    "\n",
    "En esta ocasión queremos extraer filas en las que la columna 'source' tenga valores ausentes."
   ]
  },
  {
   "cell_type": "code",
   "execution_count": null,
   "metadata": {},
   "outputs": [],
   "source": [
    "import pandas as pd\n",
    "\n",
    "df_logs = pd.read_csv('/datasets/visit_log.csv')\n",
    "\n",
    "#prints rows from 'source' column wih missing values\n",
    "print(df_logs[df_logs['source'].isna()])"
   ]
  },
  {
   "cell_type": "markdown",
   "metadata": {},
   "source": [
    "Podemos filtrar un DataFrame a partir de múltiples condiciones. Por ejemplo, para crear un DataFrame que no tenga valores ausentes en la columna 'email' y solo el valor 'email' en la columna 'source' . Veamos cómo hacerlo."
   ]
  },
  {
   "cell_type": "code",
   "execution_count": null,
   "metadata": {},
   "outputs": [],
   "source": [
    "import pandas as pd\n",
    "\n",
    "df_logs = pd.read_csv('/datasets/visit_log.csv')\n",
    "\n",
    "#prints rows from 'source' column wihout missing values and only the email values\n",
    "print(df_logs[~df_logs['email'].isna() & (df_logs['source'] =='email')])# Escribe tu código aquí"
   ]
  },
  {
   "cell_type": "markdown",
   "metadata": {},
   "source": [
    "Actividad práctica\n",
    "\n",
    "Ejercicio 1\n",
    "\n",
    "Anteriormente determinamos que la columna 'email' tiene 13 953 valores no ausentes. ¡Eso significa que más del 90% de los datos están ausentes! Filtra el DataFrame df_logs para que solo contenga filas donde no haya valores ausentes en la columna 'email'. Asigna el resultado filtrado a una variable llamada df_emails, luego imprime las primeras 10 filas.\n",
    "\n",
    "Para comprobar si una condición no es verdadera al filtrar un DataFrame, precede la condición con el carácter ~ (por ejemplo, df[~df.method()])."
   ]
  },
  {
   "cell_type": "code",
   "execution_count": null,
   "metadata": {},
   "outputs": [],
   "source": [
    "import pandas as pd\n",
    "\n",
    "df_logs = pd.read_csv('/datasets/visit_log.csv')\n",
    "\n",
    "df_emails = df_logs[~df_logs['email'].isna()]\n",
    "print(df_emails.head(10))# escribe tu código aquí\n",
    "\n",
    "\"\"\"Resultado\n",
    "       user_id source       email  purchase\n",
    "1   5644686960  email  c129aa540a         0\n",
    "11  8623045648  email  d6d19c571c         0\n",
    "18  5739438900  email  19379ee49c         0\n",
    "19  7486955288  email  09c27794fa         0\n",
    "22  1397217221    NaN  79ac569f0b         0\n",
    "33  7298923004  email  1fe184ed73         0\n",
    "43  6034222291  email  fb58a27f03         0\n",
    "49  5062457902    NaN  9ddce3a861         0\n",
    "56  5690036640  email  a088a48182         0\n",
    "66  9963049355  email  9cc43ebd15         0\"\"\""
   ]
  },
  {
   "cell_type": "markdown",
   "metadata": {},
   "source": [
    "Ejercicio 2\n",
    "\n",
    "La columna 'source' muestra que muchas de estas visitas procedían de enlaces de correo electrónico de marketing, pero también hay algunos valores NaN. Es posible que las visitas con una dirección de correo electrónico, pero sin un valor 'source', también provengan de enlaces de marketing por correo electrónico, aunque la fuente no se haya registrado.\n",
    "\n",
    "Comprueba si hay filas con valores ausentes en las columnas 'source' y 'email'. Si no hay ninguna fila en la que ambas condiciones sean verdaderas, entonces es una buena señal de que los valores ausentes en la columna 'source' deberían ser 'email'.\n",
    "\n",
    "Filtra df_logs en la condición donde las columnas 'email' y 'source' tienen valores ausentes. Asigna el resultado a una variable llamada df_emails y luego imprímelo."
   ]
  },
  {
   "cell_type": "code",
   "execution_count": null,
   "metadata": {},
   "outputs": [],
   "source": [
    "import pandas as pd\n",
    "\n",
    "df_logs = pd.read_csv('/datasets/visit_log.csv')\n",
    "\n",
    "df_emails = df_logs[df_logs['email'].isna() & (df_logs['source'].isna())]\n",
    "\n",
    "print(df_emails)# escribe tu código aquí\n",
    "\n",
    "\"\"\"Resultado\n",
    "Empty DataFrame\n",
    "Columns: [user_id, source, email, purchase]\n",
    "Index: []\"\"\""
   ]
  }
 ],
 "metadata": {
  "kernelspec": {
   "display_name": "Python 3",
   "language": "python",
   "name": "python3"
  },
  "language_info": {
   "name": "python",
   "version": "3.12.0"
  }
 },
 "nbformat": 4,
 "nbformat_minor": 2
}
