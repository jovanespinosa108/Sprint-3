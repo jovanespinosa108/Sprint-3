{
 "cells": [
  {
   "cell_type": "markdown",
   "metadata": {},
   "source": [
    "Contar valores ausentes\n",
    "\n",
    "Teoría\n",
    "\n",
    "En las próximas lecciones, trabajaremos con un conjunto de datos de marketing de una empresa de comercio electrónico. Los datos están en un archivo CSV llamado visit_log.csv y cada fila representa una visita al sitio web de una empresa. Hay cuatro columnas:\n",
    "\n",
    "'user_id': identificador único para cada persona que visita el sitio web.\n",
    "\n",
    "'source': fuente de tráfico de la visita al sitio web. Aquí nos interesan tres categorías para la fuente:\n",
    "\n",
    "Visitas desde enlaces de marketing por correo electrónico: 'email'\n",
    "\n",
    "Visitas de anuncios contextuales en línea: 'context'\n",
    "\n",
    "Visitas de cualquier otra fuente: 'other'\n",
    "'email': dirección de correo electrónico encriptada asociada con la persona que visita el sitio.\n",
    "\n",
    "'purchase': indica si la persona compró algo en esa visita (1 en caso afirmativo, 0 en caso negativo).\n",
    "\n",
    "Tu objetivo es determinar la tasa de conversión para cada fuente, que es la proporción de visitas en las que se realizó una compra con respecto al número total de visitas en general. Comparar la tasa de conversión para cada fuente te permitirá determinar cuál de ellas genera la mayor cantidad de ventas.\n",
    "\n",
    "Pero antes de profundizar en los cálculos, necesitamos revisar el conjunto de datos para buscar valores ausentes y decidir qué hacer con ellos.\n",
    "\n",
    "Contar los valores ausentes con value_counts()\n",
    "En vez de sumar los valores obtenidos con isna(), podemos contar los valores ausentes con el método value_counts(). Al llamarlo en una sola columna (es decir, un Series), devuelve la cantidad de veces que cada valor único aparece en esa columna.\n",
    "\n",
    "Este método tiene un parámetro llamado dropna=, que se establece por defecto en True. Esto significa que value_counts() excluirá los valores None o NaN a menos que establezcas dropna=False.\n",
    "\n",
    "Buscar valores ausentes\n",
    "Una buena manera de empezar a comprobar los valores ausentes es llamar al método info() de tu DataFrame, tal y como hicimos en el último capítulo.\n",
    "\n",
    "El método info() imprime el número de valores que no son ausentes en cada columna. Los valores nulos son valores ausentes, mientras que los no nulos son valores no ausentes. Recuerda que info() solo reconocerá valores ausentes \"verdaderos\" como nulos (None o NaN), mientras que los valores ausentes representados por cualquier otra cosa no se considerarán como ausentes.\n",
    "\n",
    "Algunos ejemplos de valores ausentes de marcador de posición son el número 0, el string vacío '' u otros strings como 'None' (distinto al tipo None de Python).\n",
    "\n",
    "Nunca es una mala idea llamar a info() en un nuevo conjunto de datos. \n",
    "\n",
    "Resumen\n",
    "\n",
    "Hay muchas formas de encontrar y contar valores ausentes en pandas. En esta lección aprendiste tres maneras:\n",
    "\n",
    "Llamar a info() en un DataFrame.\n",
    "Llamar a isna().sum() en un DataFrame o un Series.\n",
    "Llamar a value_counts(dropna=False) en un Series."
   ]
  },
  {
   "cell_type": "markdown",
   "metadata": {},
   "source": [
    "Práctica guiada\n",
    "\n",
    "Nunca es una mala idea llamar a info() en un nuevo conjunto de datos. Echemos un vistazo a nuestro DataFrame de registros de visitantes, el cual hemos asignado a una variable llamada df_logs."
   ]
  },
  {
   "cell_type": "code",
   "execution_count": null,
   "metadata": {},
   "outputs": [],
   "source": [
    "import pandas as pd\n",
    "\n",
    "df_logs = pd.read_csv('/datasets/visit_log.csv')\n",
    "\n",
    "print(df_logs.info())# escribe tu código aquí\n",
    "\n",
    "\"\"\"Resultado\n",
    "<class 'pandas.core.frame.DataFrame'>\n",
    "RangeIndex: 200000 entries, 0 to 199999\n",
    "Data columns (total 4 columns):\n",
    " #   Column    Non-Null Count   Dtype \n",
    "---  ------    --------------   ----- \n",
    " 0   user_id   200000 non-null  int64 \n",
    " 1   source    198326 non-null  object\n",
    " 2   email     13953 non-null   object\n",
    " 3   purchase  200000 non-null  int64 \n",
    "dtypes: int64(2), object(2)\n",
    "memory usage: 6.1+ MB\n",
    "None\"\"\""
   ]
  },
  {
   "cell_type": "markdown",
   "metadata": {},
   "source": [
    "Aunque info() señala que tenemos valores ausentes, si nuestro objetivo es contar valores ausentes, entonces hay una mejor opción: el método isna()."
   ]
  },
  {
   "cell_type": "code",
   "execution_count": null,
   "metadata": {},
   "outputs": [],
   "source": [
    "import pandas as pd\n",
    "\n",
    "df_logs = pd.read_csv('/datasets/visit_log.csv')\n",
    "print(df_logs.isna().sum())# escribe tu código aquí)\n",
    "\n",
    "\"\"\"Resultado\n",
    "user_id          0\n",
    "source        1674\n",
    "email       186047\n",
    "purchase         0\n",
    "dtype: int64\"\"\""
   ]
  },
  {
   "cell_type": "markdown",
   "metadata": {},
   "source": [
    "Veamos otra forma de encontrar los valores ausentes. Usemos value_counts() pero agreguemos el parámetro dropna=False."
   ]
  },
  {
   "cell_type": "code",
   "execution_count": null,
   "metadata": {},
   "outputs": [],
   "source": [
    "import pandas as pd\n",
    "\n",
    "df_logs = pd.read_csv('/datasets/visit_log.csv')\n",
    "print(df_logs['source'].value_counts(dropna=False))\n",
    "\n",
    "\"\"\"Resultado\n",
    "other      133834\n",
    "context     52032\n",
    "email       12279\n",
    "NaN          1674\n",
    "undef         181\n",
    "Name: source, dtype: int64\"\"\""
   ]
  },
  {
   "cell_type": "markdown",
   "metadata": {},
   "source": [
    "Actividad práctica\n",
    "\n",
    "Ejercicio 1\n",
    "\n",
    "Ahora aplica el método value_counts() a la columna 'email' y almacena el resultado en la variable email_values. Esta vez, no incluyas los valores ausentes en la salida. Imprime el resultado."
   ]
  },
  {
   "cell_type": "code",
   "execution_count": null,
   "metadata": {},
   "outputs": [],
   "source": [
    "import pandas as pd\n",
    "\n",
    "df_logs = pd.read_csv('/datasets/visit_log.csv')\n",
    "\n",
    "email_values = df_logs['email'].value_counts(dropna=True) #y escribe tu código aquí\n",
    "\n",
    "print(email_values)# escribe tu código aquí)\n",
    "\n",
    "\"\"\"Resultado\n",
    "4526cc437a    9\n",
    "410a2a3c23    9\n",
    "17c4fb26f9    8\n",
    "9f0e835d13    7\n",
    "125073f731    7\n",
    "             ..\n",
    "a4b09e2a3d    1\n",
    "19a83748b6    1\n",
    "911179cee8    1\n",
    "dcda951cad    1\n",
    "a04e9e53e1    1\n",
    "Name: email, Length: 6062, dtype: int64\"\"\""
   ]
  },
  {
   "cell_type": "markdown",
   "metadata": {},
   "source": [
    "Ejercicio 2\n",
    "\n",
    "Ahora intentemos ordenar los resultados por índice en lugar de valores para ver si se añade algún significado a los valores de la columna 'email'. Vuelve a escribir la variable email_values utilizando la ordenación e imprime el resultado."
   ]
  },
  {
   "cell_type": "code",
   "execution_count": null,
   "metadata": {},
   "outputs": [],
   "source": [
    "import pandas as pd\n",
    "\n",
    "df_logs = pd.read_csv('/datasets/visit_log.csv')\n",
    "\n",
    "email_values = df_logs['email'].value_counts()\n",
    "email_values = df_logs['email'].value_counts()# escribe tu código aquí\n",
    "\n",
    "print(email_values.sort_index())\n",
    "\n",
    "\"\"\"Resultado\n",
    "000b6d0fb5    3\n",
    "000eb3c3df    4\n",
    "0017c0065d    4\n",
    "001c287e32    6\n",
    "002020511f    1\n",
    "             ..\n",
    "ff953ec581    1\n",
    "ffa51139e7    2\n",
    "ffcef1ce43    2\n",
    "ffe64c4d89    5\n",
    "fffc7f0482    1\n",
    "Name: email, Length: 6062, dtype: int64\"\"\""
   ]
  }
 ],
 "metadata": {
  "kernelspec": {
   "display_name": "Python 3",
   "language": "python",
   "name": "python3"
  },
  "language_info": {
   "codemirror_mode": {
    "name": "ipython",
    "version": 3
   },
   "file_extension": ".py",
   "mimetype": "text/x-python",
   "name": "python",
   "nbconvert_exporter": "python",
   "pygments_lexer": "ipython3",
   "version": "3.12.0"
  }
 },
 "nbformat": 4,
 "nbformat_minor": 2
}
